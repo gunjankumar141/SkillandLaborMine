{
  "nbformat": 4,
  "nbformat_minor": 0,
  "metadata": {
    "colab": {
      "provenance": []
    },
    "kernelspec": {
      "name": "python3",
      "display_name": "Python 3"
    },
    "language_info": {
      "name": "python"
    }
  },
  "cells": [
    {
      "cell_type": "markdown",
      "source": [
        "###MongoDB with Jupyter Notebook"
      ],
      "metadata": {
        "id": "RG9_JjDP7X9K"
      }
    },
    {
      "cell_type": "code",
      "source": [
        "!pip install pymongo"
      ],
      "metadata": {
        "id": "m6Va2we_7U0R"
      },
      "execution_count": null,
      "outputs": []
    },
    {
      "cell_type": "code",
      "source": [
        "import pymongo\n",
        "\n",
        "from pymongo import MongoClient"
      ],
      "metadata": {
        "id": "Abddzqhp7gbJ"
      },
      "execution_count": null,
      "outputs": []
    },
    {
      "cell_type": "code",
      "source": [
        "client = MongoClient(“localhost”, 27017)"
      ],
      "metadata": {
        "id": "V3ihCyHo7imM"
      },
      "execution_count": null,
      "outputs": []
    },
    {
      "cell_type": "code",
      "source": [
        "db = client['your_db_name']\n",
        "\n",
        "db"
      ],
      "metadata": {
        "id": "qI-0cbUX7klx"
      },
      "execution_count": null,
      "outputs": []
    },
    {
      "cell_type": "code",
      "source": [
        "list (db.list_collections())"
      ],
      "metadata": {
        "id": "zwxSI2az7p6K"
      },
      "execution_count": null,
      "outputs": []
    },
    {
      "cell_type": "code",
      "source": [],
      "metadata": {
        "id": "ZPXctV9v7wfK"
      },
      "execution_count": null,
      "outputs": []
    },
    {
      "cell_type": "markdown",
      "source": [
        "###MongoDB with Colab"
      ],
      "metadata": {
        "id": "sOvDfOCR7VIg"
      }
    },
    {
      "cell_type": "code",
      "execution_count": null,
      "metadata": {
        "id": "qo0cCSqH6_OS"
      },
      "outputs": [],
      "source": [
        "# Instaling PyMongo, this is the interface to connect to MongoDB with Python\n",
        "! python -m pip install pymongo==3.7.2"
      ]
    },
    {
      "cell_type": "code",
      "source": [
        "import datetime                            # Imports datetime library\n",
        "\n",
        "import pymongo\n",
        "from pymongo import MongoClient\n",
        "\n",
        "# uri (uniform resource identifier) defines the connection parameters\n",
        "uri = ''\n",
        "# start client to connect to MongoDB server\n",
        "client = MongoClient( uri )"
      ],
      "metadata": {
        "id": "99S0PVMs7DL5"
      },
      "execution_count": null,
      "outputs": []
    },
    {
      "cell_type": "code",
      "source": [
        "client.stats                                # .stats  show details about the client"
      ],
      "metadata": {
        "id": "F8ZqqaRG7Iv5"
      },
      "execution_count": null,
      "outputs": []
    },
    {
      "cell_type": "code",
      "source": [
        "# Show existing database names\n",
        "client.list_database_names()"
      ],
      "metadata": {
        "id": "ZFXWa9M67LpZ"
      },
      "execution_count": null,
      "outputs": []
    },
    {
      "cell_type": "code",
      "source": [
        "# Set database name to work with. If it doesn't exist, it will be created as soon as one document is added.\n",
        "db = client.your_db_name"
      ],
      "metadata": {
        "id": "pFAFhOEV7NUJ"
      },
      "execution_count": null,
      "outputs": []
    }
  ]
}